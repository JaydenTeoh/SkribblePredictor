{
 "cells": [
  {
   "cell_type": "code",
   "execution_count": 144,
   "id": "6343612c",
   "metadata": {},
   "outputs": [],
   "source": [
    "import numpy as np\n",
    "import pandas as pd\n",
    "from sklearn.model_selection import train_test_split as tts\n",
    "import keras\n",
    "from keras.models import Sequential\n",
    "from keras.layers import Dense, Dropout, Conv2D, MaxPooling2D, Flatten, LeakyReLU\n",
    "from random import randint\n",
    "import numpy as np\n",
    "import os\n",
    "from PIL import Image\n",
    "from sklearn.metrics import accuracy_score,confusion_matrix"
   ]
  },
  {
   "cell_type": "code",
   "execution_count": 153,
   "id": "9f5eb928",
   "metadata": {},
   "outputs": [],
   "source": [
    "DRAWING_MAP = {0: \"Apple\", 1: \"Flower\", 2: \"Cake\", 3: \"Fish\", 4: \"Star\"}\n",
    "N_DRAWINGS = 5\n",
    "N_SAMPLES = 5000\n",
    "N_EPOCHS = 10\n",
    "files = [\"apple.npy\", \"flower.npy\", \"cake.npy\", \"fish.npy\", \"star.npy\"]"
   ]
  },
  {
   "cell_type": "code",
   "execution_count": 154,
   "id": "843e9dec",
   "metadata": {},
   "outputs": [],
   "source": [
    "def load(dir, reshaped, files):\n",
    "    \"Takes in a list of filenames and returns a list of numpy arrays.\"\n",
    "\n",
    "    data = []\n",
    "    for file in files:\n",
    "        f = np.load(dir + file)\n",
    "        if reshaped:\n",
    "            new_f = []\n",
    "            for i in range(len(f)):\n",
    "                x = np.reshape(f[i], (28, 28))\n",
    "                x = np.expand_dims(x, axis=0)\n",
    "                x = np.reshape(f[i], (28, 28, 1))\n",
    "                new_f.append(x)\n",
    "            f = new_f\n",
    "        data.append(f)\n",
    "    return data\n",
    "\n",
    "\n",
    "def normalize(data):\n",
    "    return np.interp(data, [0, 255], [-1, 1])\n",
    "\n",
    "\n",
    "def denormalize(data):\n",
    "    return np.interp(data, [-1, 1], [0, 255])\n",
    "\n",
    "\n",
    "def visualize(array):\n",
    "    array = np.reshape(array, (28,28))\n",
    "    img = Image.fromarray(array)\n",
    "    img.show(title=\"Visulizing array\")\n",
    "\n",
    "\n",
    "def set_limit(arrays, n):\n",
    "    new = []\n",
    "    for array in arrays:\n",
    "        i = 0\n",
    "        for item in array:\n",
    "            if i == n:\n",
    "                break\n",
    "            new.append(item)\n",
    "            i += 1\n",
    "    return new\n",
    "\n",
    "\n",
    "def make_labels(N1, N2):\n",
    "    labels = []\n",
    "    for i in range(N1):\n",
    "        labels += [i] * N2\n",
    "    return labels"
   ]
  },
  {
   "cell_type": "code",
   "execution_count": 156,
   "id": "170d15d7",
   "metadata": {},
   "outputs": [],
   "source": [
    "drawings = load(\"Data/\", True, files)\n",
    "drawings = set_limit(drawings, N_SAMPLES)\n",
    "drawings = list(map(normalize, drawings))\n",
    "labels = make_labels(N_DRAWINGS, N_SAMPLES)\n",
    "\n",
    "x_train, x_test, y_train, y_test = tts(drawings, labels, test_size=0.05)\n",
    "Y_train = keras.utils.to_categorical(y_train, N_DRAWINGS)\n",
    "Y_test = keras.utils.to_categorical(y_test, N_DRAWINGS)"
   ]
  },
  {
   "cell_type": "code",
   "execution_count": 157,
   "id": "def35ab6",
   "metadata": {},
   "outputs": [],
   "source": [
    "model = Sequential()\n",
    "model.add(Conv2D(32, kernel_size=(3, 3),activation='relu',input_shape=(28,28,1),padding='same'))\n",
    "model.add(MaxPooling2D((2, 2),padding='same'))\n",
    "model.add(Conv2D(64, (3, 3), activation='relu',padding='same'))\n",
    "model.add(MaxPooling2D(pool_size=(2, 2),padding='same'))\n",
    "model.add(Conv2D(128, (3, 3), activation='relu',padding='same'))\n",
    "model.add(MaxPooling2D(pool_size=(2, 2),padding='same'))\n",
    "model.add(Flatten())\n",
    "model.add(Dense(128, activation='linear'))\n",
    "model.add(LeakyReLU(alpha=0.1))                  \n",
    "model.add(Dense(N_DRAWINGS, activation='softmax'))"
   ]
  },
  {
   "cell_type": "code",
   "execution_count": 158,
   "id": "d2157fdd",
   "metadata": {},
   "outputs": [],
   "source": [
    "model.compile(loss='categorical_crossentropy', \n",
    "              optimizer=keras.optimizers.legacy.Adam(learning_rate=0.001), \n",
    "              metrics=['accuracy'])\n",
    "\n",
    "callbacks_list = [keras.callbacks.EarlyStopping(monitor='val_loss', patience=1)]"
   ]
  },
  {
   "cell_type": "code",
   "execution_count": 159,
   "id": "e1954d52",
   "metadata": {},
   "outputs": [
    {
     "name": "stdout",
     "output_type": "stream",
     "text": [
      "Epoch 1/10\n",
      "520/520 [==============================] - 6s 11ms/step - loss: 0.2612 - accuracy: 0.9182 - val_loss: 0.1596 - val_accuracy: 0.9547\n",
      "Epoch 2/10\n",
      "520/520 [==============================] - 5s 10ms/step - loss: 0.1221 - accuracy: 0.9619 - val_loss: 0.1378 - val_accuracy: 0.9562\n",
      "Epoch 3/10\n",
      "520/520 [==============================] - 5s 10ms/step - loss: 0.0903 - accuracy: 0.9706 - val_loss: 0.1262 - val_accuracy: 0.9601\n",
      "Epoch 4/10\n",
      "520/520 [==============================] - 5s 10ms/step - loss: 0.0665 - accuracy: 0.9781 - val_loss: 0.1138 - val_accuracy: 0.9639\n",
      "Epoch 5/10\n",
      "520/520 [==============================] - 5s 10ms/step - loss: 0.0461 - accuracy: 0.9845 - val_loss: 0.1216 - val_accuracy: 0.9655\n"
     ]
    },
    {
     "data": {
      "text/plain": [
       "<keras.src.callbacks.History at 0x329343cd0>"
      ]
     },
     "execution_count": 159,
     "metadata": {},
     "output_type": "execute_result"
    }
   ],
   "source": [
    "model.fit(np.array(x_train), np.array(Y_train), batch_size=32, validation_split=0.3, callbacks=callbacks_list, epochs=N_EPOCHS)"
   ]
  },
  {
   "cell_type": "code",
   "execution_count": 160,
   "id": "cadafad4",
   "metadata": {},
   "outputs": [
    {
     "name": "stdout",
     "output_type": "stream",
     "text": [
      "40/40 [==============================] - 0s 3ms/step\n"
     ]
    }
   ],
   "source": [
    "y_pred = model.predict(np.array(x_test))"
   ]
  },
  {
   "cell_type": "code",
   "execution_count": 161,
   "id": "2f14704e",
   "metadata": {},
   "outputs": [
    {
     "name": "stdout",
     "output_type": "stream",
     "text": [
      "Accuracy:  96.48\n"
     ]
    }
   ],
   "source": [
    "score = 0\n",
    "for i in range(len(y_pred)):\n",
    "    if np.argmax(y_pred[i]) == y_test[i]:\n",
    "        score += 1\n",
    "\n",
    "print(\"Accuracy: \", ((score + 0.0) / len(y_pred)) * 100)"
   ]
  },
  {
   "cell_type": "code",
   "execution_count": 162,
   "id": "94ed1573",
   "metadata": {},
   "outputs": [],
   "source": [
    "model.save(\"predictor.h5\")"
   ]
  },
  {
   "cell_type": "code",
   "execution_count": 75,
   "id": "e1f42f64",
   "metadata": {},
   "outputs": [],
   "source": [
    "apple = load(\"Data/\", False, ['flower.npy'])"
   ]
  },
  {
   "cell_type": "code",
   "execution_count": 79,
   "id": "990ed8f4",
   "metadata": {},
   "outputs": [],
   "source": [
    "visualize(apple[0][1])"
   ]
  },
  {
   "cell_type": "code",
   "execution_count": null,
   "id": "ca6ef3d2",
   "metadata": {},
   "outputs": [],
   "source": []
  }
 ],
 "metadata": {
  "kernelspec": {
   "display_name": "Python 3 (ipykernel)",
   "language": "python",
   "name": "python3"
  },
  "language_info": {
   "codemirror_mode": {
    "name": "ipython",
    "version": 3
   },
   "file_extension": ".py",
   "mimetype": "text/x-python",
   "name": "python",
   "nbconvert_exporter": "python",
   "pygments_lexer": "ipython3",
   "version": "3.10.10"
  }
 },
 "nbformat": 4,
 "nbformat_minor": 5
}
